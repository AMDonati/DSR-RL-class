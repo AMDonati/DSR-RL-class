{
 "cells": [
  {
   "cell_type": "markdown",
   "metadata": {},
   "source": [
    "### To do \n",
    "#### Explanations\n",
    "* Add an image of the Black Jack Game\n",
    "* Explain the results of the value table"
   ]
  },
  {
   "cell_type": "code",
   "execution_count": 15,
   "metadata": {
    "collapsed": true
   },
   "outputs": [],
   "source": [
    "import gym\n",
    "import numpy as np"
   ]
  },
  {
   "cell_type": "code",
   "execution_count": 16,
   "metadata": {
    "scrolled": true
   },
   "outputs": [
    {
     "name": "stderr",
     "output_type": "stream",
     "text": [
      "[2019-08-31 13:11:23,636] Making new env: Blackjack-v0\n"
     ]
    }
   ],
   "source": [
    "env=gym.make('Blackjack-v0')"
   ]
  },
  {
   "cell_type": "markdown",
   "metadata": {},
   "source": [
    " Blackjack is a card game where the goal is to obtain cards that sum to as\n",
    " near as possible to 21 without going over.  \n",
    " They're playing against a fixed dealer.\n",
    " Face cards (Jack, Queen, King) have point value 10.\n",
    " Aces can either count as 11 or 1, and it's called 'usable' at 11.  \n",
    " \n",
    "This game is placed with an infinite deck (or with replacement). \n",
    "The game starts with each (player and dealer) having one face up and one face down card.\n",
    "The player can request additional cards (hit=1) until they decide to stop(stick=0) or exceed 21 (bust).\n",
    " After the player sticks, the dealer reveals their facedown card, and draws until their sum is 17 or greater.  If the dealer goes bust the player wins.\n",
    "If neither player nor dealer busts, the outcome (win, lose, draw) is decided by whose sum is closer to 21.  The reward for winning is +1, drawing is 0, and losing is -1."
   ]
  },
  {
   "cell_type": "markdown",
   "metadata": {},
   "source": [
    "## <a id=\"mc\"></a>Reminder: Monte-Carlo evaluation\n",
    "\n",
    "Monte Carlo methods are intuitive, episode-based methods. \n",
    "\n",
    "The **online Monte-Carlo** algorithm does the following: start from $s$, run the policy until termination (or for a long number of steps) then update the value of all encountered states before restarting an episode. \n",
    "\n",
    "Let $(s_0, r_0, s_1, \\ldots, s_T)$ be the sequence of transitions of such an episode. Then, this procedure provides an estimate $G_t$ of the value of the state $s_t$ encountered at time step $t$:\n",
    "<div class=\"alert-success\">**Monte Carlo return:**\n",
    "$$G_t = \\sum_{i>t} \\gamma^{i-t} r_i$$\n",
    "</div>\n",
    "\n",
    "Let $G^\\pi(s)$ be the random variable corresponding to the sum of discounted rewards one can obtain from $s$. Then $V^\\pi(s) = \\mathbb{E}(G^\\pi(s))$. Since $G(s_t)$ is a realization of $R(s)$, one can design a **stochastic approximation** procedure that converges to $G^\\pi(s_t)$:\n",
    "<div class=\"alert-success\">**Stochastic approximation of $V^\\pi$:**\n",
    "$$V(s_t) \\leftarrow V(s_t) + \\alpha \\left[ R_t - V(s_t) \\right]$$\n",
    "</div>\n",
    "\n",
    "For those unfamiliar with stochastic approximation procedures, we can understand the previous update as: $R_t$ are samples estimates of $V^\\pi(s_t)$. If I already have an estimation of $V(s_t)$ of $V^\\pi(s_t)$ and I receive a new sample $R_t$, I should \"pull\" my previous estimate towards $G_t$, but $R_t$ carries a part of noise, so I should be cautious and only take a small step $\\alpha$ in the direction of $G_t$. This type of stochastic approximation procedure converges if it respects Robbins-Monro's conditions:\n",
    "<div class=\"alert-success\">**Robbins-Monro convergence conditions:**\n",
    "$$\\sum\\limits_{t=0}^\\infty \\alpha_t = \\infty \\quad \\textrm{  and  } \\quad \\sum\\limits_{t=0}^\\infty \\alpha_t^2 < \\infty.$$\n",
    "</div>\n",
    "Intuitive explanation. These conditions simply say that any value $V^\\pi(s)$ should be reachable given any initial guess $V(s)$, no matter how far from $V^\\pi(s)$ is from this first guess; hence the $\\sum\\limits_{t=0}^\\infty \\alpha_t = \\infty$. However, we still need the step-size to be decreasing so that we don't start oscillating around $V^\\pi(s)$ when we get closer; so to insure convergence we impose $\\sum\\limits_{t=0}^\\infty \\alpha_t^2 < \\infty$."
   ]
  },
  {
   "cell_type": "markdown",
   "metadata": {},
   "source": [
    "### action space: 2 possible actions\n",
    "0: stick (stop)\n",
    "1: hit (draw a new card)"
   ]
  },
  {
   "cell_type": "code",
   "execution_count": 17,
   "metadata": {},
   "outputs": [
    {
     "name": "stdout",
     "output_type": "stream",
     "text": [
      "2\n"
     ]
    }
   ],
   "source": [
    "print(env.action_space.n)"
   ]
  },
  {
   "cell_type": "markdown",
   "metadata": {},
   "source": [
    "### observation space\n",
    "The observation of a 3-tuple of: the players current sum, the dealer's one showing card (1-10 where 1 is ace),\n",
    "and whether or not the player holds a usable ace (0 or 1)"
   ]
  },
  {
   "cell_type": "code",
   "execution_count": 18,
   "metadata": {},
   "outputs": [
    {
     "name": "stdout",
     "output_type": "stream",
     "text": [
      "Tuple(Discrete(32), Discrete(11), Discrete(2))\n"
     ]
    }
   ],
   "source": [
    "print(env.observation_space)"
   ]
  },
  {
   "cell_type": "markdown",
   "metadata": {},
   "source": [
    "### rewards\n",
    "If neither player nor dealer busts, the outcome (win, lose, draw) is decided by whose sum is closer to 21.  \n",
    "The reward for winning is +1, drawing is 0, and losing is -1."
   ]
  },
  {
   "cell_type": "markdown",
   "metadata": {},
   "source": [
    "### policy to evaluate"
   ]
  },
  {
   "cell_type": "code",
   "execution_count": 19,
   "metadata": {
    "collapsed": true
   },
   "outputs": [],
   "source": [
    "def sample_policy(observation):\n",
    "    score, dealer_score, usable_ace=observation\n",
    "    return 0 if score>=20 else 1"
   ]
  },
  {
   "cell_type": "markdown",
   "metadata": {
    "collapsed": true
   },
   "source": [
    "### Function to generate an episode following a policy"
   ]
  },
  {
   "cell_type": "code",
   "execution_count": 20,
   "metadata": {
    "collapsed": true
   },
   "outputs": [],
   "source": [
    "def generate_episode(policy, env):\n",
    "    states, actions, rewards=[],[],[]\n",
    "    \n",
    "    # initialize the first state\n",
    "    observation=env.reset()\n",
    "    \n",
    "    while True:\n",
    "        states.append(observation)\n",
    "        \n",
    "        # now we select the action using the sample policy function \n",
    "        action=sample_policy(observation)\n",
    "        actions.append(action)\n",
    "        \n",
    "        # We perform the action and move to the next state\n",
    "        observation, reward, done, _=env.step(action)\n",
    "        rewards.append(reward)\n",
    "        \n",
    "        if done:\n",
    "            break\n",
    "            \n",
    "    return states, actions, rewards"
   ]
  },
  {
   "cell_type": "markdown",
   "metadata": {},
   "source": [
    "### MC prediction algorithm"
   ]
  },
  {
   "attachments": {
    "MC-prediction-algo.png": {
     "image/png": "[encoded data removed]"
    }
   },
   "cell_type": "markdown",
   "metadata": {},
   "source": [
    "![MC-prediction-algo.png](attachment:MC-prediction-algo.png)"
   ]
  },
  {
   "cell_type": "code",
   "execution_count": 21,
   "metadata": {
    "collapsed": true
   },
   "outputs": [],
   "source": [
    "from collections import defaultdict"
   ]
  },
  {
   "cell_type": "code",
   "execution_count": 23,
   "metadata": {},
   "outputs": [],
   "source": [
    "def first_visit_MC_prediction(policy, env, n_episodes):\n",
    "    # value_table and state counter initialization\n",
    "    value_table=defaultdict(float)\n",
    "    N=defaultdict(int)\n",
    "\n",
    "    for i in range(n_episodes):\n",
    "        # generating episodes\n",
    "        states,actions,rewards=generate_episode(policy, env)\n",
    "        returns=0\n",
    "    \n",
    "        # for each step, we store the rewards to a variable R and the states to a variable S\n",
    "        # and we calculate returns as the sum of the rewards\n",
    "        for t in range(len(states)-1,1,-1):\n",
    "            R=rewards[t]\n",
    "            S=states[t]\n",
    "            returns+=R\n",
    "            \n",
    "            # check if the state is visited for the first time, if so N(s) and is incremented\n",
    "            if S not in states[:t]:\n",
    "                N[S]+=1\n",
    "                value_table[S]+=(returns-value_table[S])/ N[S]\n",
    "                \n",
    "    return value_table"
   ]
  },
  {
   "cell_type": "code",
   "execution_count": 24,
   "metadata": {
    "collapsed": true
   },
   "outputs": [],
   "source": [
    "value_table=first_visit_MC_prediction(sample_policy, env, n_episodes=100000)"
   ]
  },
  {
   "cell_type": "code",
   "execution_count": 25,
   "metadata": {},
   "outputs": [
    {
     "data": {
      "text/plain": [
       "defaultdict(float,\n",
       "            {(8, 4, False): -1.0,\n",
       "             (8, 6, False): -1.0,\n",
       "             (9, 1, False): -1.0,\n",
       "             (9, 2, False): -1.0,\n",
       "             (9, 6, False): -1.0,\n",
       "             (9, 7, False): 1.0,\n",
       "             (9, 10, False): -1.0,\n",
       "             (10, 1, False): -1.0,\n",
       "             (10, 2, False): -1.0,\n",
       "             (10, 3, False): -0.3333333333333333,\n",
       "             (10, 4, False): -1.0,\n",
       "             (10, 5, False): 0.6666666666666666,\n",
       "             (10, 6, False): 0.0,\n",
       "             (10, 7, False): -0.3333333333333333,\n",
       "             (10, 8, False): -0.5,\n",
       "             (10, 9, False): -0.3333333333333333,\n",
       "             (10, 10, False): -0.6363636363636365,\n",
       "             (11, 1, False): 0.11111111111111113,\n",
       "             (11, 2, False): -1.0,\n",
       "             (11, 3, False): 0.3333333333333333,\n",
       "             (11, 4, False): -1.0,\n",
       "             (11, 5, False): 0.12499999999999997,\n",
       "             (11, 6, False): 0.3333333333333333,\n",
       "             (11, 7, False): 1.0,\n",
       "             (11, 8, False): -0.5,\n",
       "             (11, 9, False): -1.0,\n",
       "             (11, 10, False): 0.0,\n",
       "             (12, 1, False): -0.6,\n",
       "             (12, 2, False): -0.4285714285714285,\n",
       "             (12, 3, False): -0.5526315789473684,\n",
       "             (12, 4, False): -0.7560975609756099,\n",
       "             (12, 5, False): -0.5405405405405405,\n",
       "             (12, 6, False): -0.6249999999999999,\n",
       "             (12, 7, False): -0.5555555555555555,\n",
       "             (12, 8, False): -0.42307692307692296,\n",
       "             (12, 9, False): -0.3749999999999999,\n",
       "             (12, 10, False): -0.595744680851064,\n",
       "             (13, 1, False): -0.7846153846153846,\n",
       "             (13, 2, False): -0.490566037735849,\n",
       "             (13, 3, False): -0.46551724137931033,\n",
       "             (13, 4, False): -0.6779661016949153,\n",
       "             (13, 5, False): -0.6530612244897961,\n",
       "             (13, 6, False): -0.625,\n",
       "             (13, 7, False): -0.3999999999999999,\n",
       "             (13, 8, False): -0.4821428571428571,\n",
       "             (13, 9, False): -0.625,\n",
       "             (13, 10, False): -0.6713615023474175,\n",
       "             (14, 1, False): -0.7613636363636362,\n",
       "             (14, 2, False): -0.8024691358024689,\n",
       "             (14, 3, False): -0.4831460674157304,\n",
       "             (14, 3, True): -1.0,\n",
       "             (14, 4, False): -0.7162162162162163,\n",
       "             (14, 5, False): -0.5937500000000001,\n",
       "             (14, 6, False): -0.5925925925925927,\n",
       "             (14, 6, True): -1.0,\n",
       "             (14, 7, False): -0.6543209876543208,\n",
       "             (14, 7, True): 1.0,\n",
       "             (14, 8, False): -0.6304347826086955,\n",
       "             (14, 9, False): -0.6543209876543209,\n",
       "             (14, 10, False): -0.6302250803858522,\n",
       "             (15, 1, False): -0.7009345794392521,\n",
       "             (15, 2, False): -0.6696428571428572,\n",
       "             (15, 3, False): -0.6388888888888888,\n",
       "             (15, 3, True): -1.0,\n",
       "             (15, 4, False): -0.5809523809523809,\n",
       "             (15, 4, True): -1.0,\n",
       "             (15, 5, False): -0.6354166666666669,\n",
       "             (15, 5, True): 0.0,\n",
       "             (15, 6, False): -0.6759259259259255,\n",
       "             (15, 6, True): -1.0,\n",
       "             (15, 7, False): -0.7530864197530862,\n",
       "             (15, 7, True): 1.0,\n",
       "             (15, 8, False): -0.5566037735849058,\n",
       "             (15, 8, True): 0.0,\n",
       "             (15, 9, False): -0.5433070866141729,\n",
       "             (15, 10, False): -0.6521739130434788,\n",
       "             (15, 10, True): -0.5,\n",
       "             (16, 1, False): -0.7924528301886795,\n",
       "             (16, 1, True): 0.0,\n",
       "             (16, 2, False): -0.5796178343949042,\n",
       "             (16, 2, True): 0.0,\n",
       "             (16, 3, False): -0.7073170731707319,\n",
       "             (16, 3, True): -0.6666666666666666,\n",
       "             (16, 4, False): -0.6883116883116887,\n",
       "             (16, 4, True): -0.33333333333333337,\n",
       "             (16, 5, False): -0.6617647058823528,\n",
       "             (16, 5, True): -0.2,\n",
       "             (16, 6, False): -0.5594405594405594,\n",
       "             (16, 6, True): 0.0,\n",
       "             (16, 7, False): -0.5769230769230771,\n",
       "             (16, 7, True): -1.0,\n",
       "             (16, 8, False): -0.5974025974025975,\n",
       "             (16, 8, True): -1.0,\n",
       "             (16, 9, False): -0.6866666666666669,\n",
       "             (16, 9, True): -1.0,\n",
       "             (16, 10, False): -0.6600331674958555,\n",
       "             (16, 10, True): -0.19999999999999998,\n",
       "             (17, 1, False): -0.7235294117647055,\n",
       "             (17, 1, True): -0.5555555555555556,\n",
       "             (17, 2, False): -0.6839378238341967,\n",
       "             (17, 2, True): -0.2,\n",
       "             (17, 3, False): -0.6868686868686866,\n",
       "             (17, 3, True): -0.5555555555555556,\n",
       "             (17, 4, False): -0.7055837563451778,\n",
       "             (17, 4, True): 2.7755575615628914e-17,\n",
       "             (17, 5, False): -0.651685393258427,\n",
       "             (17, 5, True): 2.7755575615628914e-17,\n",
       "             (17, 6, False): -0.6844444444444443,\n",
       "             (17, 6, True): -0.8,\n",
       "             (17, 7, False): -0.7290640394088672,\n",
       "             (17, 7, True): -0.8,\n",
       "             (17, 8, False): -0.6256684491978608,\n",
       "             (17, 8, True): -0.3333333333333333,\n",
       "             (17, 9, False): -0.7722772277227719,\n",
       "             (17, 9, True): -0.75,\n",
       "             (17, 10, False): -0.6675977653631284,\n",
       "             (17, 10, True): -0.6086956521739131,\n",
       "             (18, 1, False): -0.7923076923076922,\n",
       "             (18, 1, True): -0.36363636363636365,\n",
       "             (18, 2, False): -0.7254901960784312,\n",
       "             (18, 2, True): -0.8,\n",
       "             (18, 3, False): -0.6639676113360329,\n",
       "             (18, 3, True): 0.15384615384615385,\n",
       "             (18, 4, False): -0.7078189300411522,\n",
       "             (18, 4, True): -0.5000000000000001,\n",
       "             (18, 5, False): -0.6385542168674699,\n",
       "             (18, 5, True): -0.6923076923076923,\n",
       "             (18, 6, False): -0.6504854368932041,\n",
       "             (18, 6, True): -0.6,\n",
       "             (18, 7, False): -0.747663551401869,\n",
       "             (18, 7, True): -0.7777777777777778,\n",
       "             (18, 8, False): -0.7079646017699116,\n",
       "             (18, 8, True): -0.1428571428571429,\n",
       "             (18, 9, False): -0.6666666666666667,\n",
       "             (18, 9, True): -0.625,\n",
       "             (18, 10, False): -0.7003121748178974,\n",
       "             (18, 10, True): -0.5111111111111111,\n",
       "             (19, 1, False): -0.7157534246575349,\n",
       "             (19, 1, True): -0.5,\n",
       "             (19, 2, False): -0.6900369003690037,\n",
       "             (19, 2, True): 0.047619047619047665,\n",
       "             (19, 3, False): -0.6920152091254754,\n",
       "             (19, 3, True): -0.29411764705882354,\n",
       "             (19, 4, False): -0.7182130584192437,\n",
       "             (19, 4, True): -0.44444444444444436,\n",
       "             (19, 5, False): -0.7386759581881533,\n",
       "             (19, 5, True): -0.2857142857142857,\n",
       "             (19, 6, False): -0.7234726688102893,\n",
       "             (19, 6, True): -0.25,\n",
       "             (19, 7, False): -0.7607973421926915,\n",
       "             (19, 7, True): -0.13333333333333336,\n",
       "             (19, 8, False): -0.7266187050359708,\n",
       "             (19, 8, True): -0.44444444444444453,\n",
       "             (19, 9, False): -0.7026143790849669,\n",
       "             (19, 9, True): -0.5333333333333333,\n",
       "             (19, 10, False): -0.7633087633087635,\n",
       "             (19, 10, True): -0.53125,\n",
       "             (20, 1, False): 0.14202898550724638,\n",
       "             (20, 1, True): 0.3333333333333333,\n",
       "             (20, 2, False): 0.6088328075709781,\n",
       "             (20, 2, True): 0.6190476190476191,\n",
       "             (20, 3, False): 0.7184466019417473,\n",
       "             (20, 3, True): 0.6086956521739131,\n",
       "             (20, 4, False): 0.6890756302521012,\n",
       "             (20, 4, True): 0.5833333333333334,\n",
       "             (20, 5, False): 0.6803278688524588,\n",
       "             (20, 5, True): 0.6363636363636364,\n",
       "             (20, 6, False): 0.7095808383233536,\n",
       "             (20, 6, True): 0.7222222222222223,\n",
       "             (20, 7, False): 0.7492163009404388,\n",
       "             (20, 7, True): 0.7777777777777778,\n",
       "             (20, 8, False): 0.7647058823529415,\n",
       "             (20, 8, True): 0.8636363636363635,\n",
       "             (20, 9, False): 0.7804878048780481,\n",
       "             (20, 9, True): 0.8749999999999999,\n",
       "             (20, 10, False): 0.42878903274942876,\n",
       "             (20, 10, True): 0.5227272727272725,\n",
       "             (21, 1, False): 0.6287878787878787,\n",
       "             (21, 1, True): 0.6470588235294118,\n",
       "             (21, 2, False): 0.8666666666666665,\n",
       "             (21, 2, True): 0.9374999999999999,\n",
       "             (21, 3, False): 0.8773006134969326,\n",
       "             (21, 3, True): 0.9615384615384615,\n",
       "             (21, 4, False): 0.9093567251461983,\n",
       "             (21, 4, True): 0.9600000000000001,\n",
       "             (21, 5, False): 0.873417721518987,\n",
       "             (21, 5, True): 0.6666666666666667,\n",
       "             (21, 6, False): 0.8927444794952678,\n",
       "             (21, 6, True): 0.8275862068965516,\n",
       "             (21, 7, False): 0.9430604982206404,\n",
       "             (21, 7, True): 0.8787878787878788,\n",
       "             (21, 8, False): 0.9278074866310155,\n",
       "             (21, 8, True): 0.9259259259259259,\n",
       "             (21, 9, False): 0.9607250755287005,\n",
       "             (21, 9, True): 0.7000000000000001,\n",
       "             (21, 10, False): 0.8857808857808857,\n",
       "             (21, 10, True): 0.8904109589041097})"
      ]
     },
     "execution_count": 25,
     "metadata": {},
     "output_type": "execute_result"
    }
   ],
   "source": [
    "value_table"
   ]
  },
  {
   "cell_type": "code",
   "execution_count": null,
   "metadata": {
    "collapsed": true
   },
   "outputs": [],
   "source": []
  }
 ],
 "metadata": {
  "kernelspec": {
   "display_name": "Python 3",
   "language": "python",
   "name": "python3"
  },
  "language_info": {
   "codemirror_mode": {
    "name": "ipython",
    "version": 3
   },
   "file_extension": ".py",
   "mimetype": "text/x-python",
   "name": "python",
   "nbconvert_exporter": "python",
   "pygments_lexer": "ipython3",
   "version": "3.6.1"
  }
 },
 "nbformat": 4,
 "nbformat_minor": 2
}
