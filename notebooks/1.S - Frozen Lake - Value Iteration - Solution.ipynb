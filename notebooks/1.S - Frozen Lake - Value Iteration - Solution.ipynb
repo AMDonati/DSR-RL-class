{
 "cells": [
  {
   "cell_type": "markdown",
   "metadata": {},
   "source": [
    "# Implementation of the Value Iteration Algorithm on the Frozen Lake"
   ]
  },
  {
   "attachments": {
    "FL.png": {
     "image/png": "[encoded data removed]"
    }
   },
   "cell_type": "markdown",
   "metadata": {},
   "source": [
    "![FL.png](attachment:FL.png)"
   ]
  },
  {
   "cell_type": "markdown",
   "metadata": {},
   "source": [
    "Imagine, there is a frozen lake from your home to office, you should walk on the frozen lake to reach your office. But oops! there will be a hole in the frozen lake in between, so you have to be careful while walking in the frozen lake to avoid getting trapped at holes. Look at the below figure where,\n",
    "\n",
    "S is the starting position (Home)\n",
    "F is the Frozen lake where you can walk\n",
    "H is the Hole which you have to be so careful about\n",
    "G is the Goal (office)\n",
    "title\n",
    "\n",
    "Okay, now let us use our agent instead of you to find the correct way to reach the office. The agent goal is to find the optimal path to reach from S to G without getting trapped at H. How an agent can achieve this? We give +1 point as a reward to the agent if it correctly walks on the frozen lake and 0 points if it falls into the hole. So that agent could determine which is the right action. An agent will now try to find the optimal policy. Optimal policy implies taking the correct path which maximizes the agent reward. If the agent is maximizing the reward, apparently agent is learning to skip the hole and reach the destination."
   ]
  },
  {
   "cell_type": "code",
   "execution_count": 5,
   "metadata": {
    "collapsed": true
   },
   "outputs": [],
   "source": [
    "import gym\n",
    "import numpy as np"
   ]
  },
  {
   "cell_type": "markdown",
   "metadata": {},
   "source": [
    "## <a id=\"everything\"></a>Summary of the RL theory learned so far\n",
    "\n",
    "<div class=\"alert-success\">\n",
    "<ul>\n",
    "<li> A **Markov Decision Process** (MDP) is a 4-tuple $\\langle S,A,p,r \\rangle$. $S$ is the state space, $A$ is the action space, $p(s'|s,a)$ the transition model and $r(s,a)$ the reward model.\n",
    "<li> A **policy** is a mapping $\\pi:S\\rightarrow A$ that specifies what to do in a given state.\n",
    "<li> **Value function of a policy**: $V^\\pi(s)=\\mathbb{E}\\left( \\sum\\limits_{t = 0}^T \\gamma^t r_t \\bigg| s_0 = s, \\pi \\right)$\n",
    "<li> **State-action value function of a policy**: $Q^\\pi(s,a) = \\mathbb{E}\\left( \\sum\\limits_{t = 0}^T \\gamma^t r_t \\bigg| s_0 = s, a_0=a, \\pi \\right)$\n",
    "<li> **Optimal policy $\\pi^*$** dominates every other possible policy in every state: $\\forall s, \\ V^*(s) = V^{\\pi^*}(s) \\geq V^\\pi(s)$\n",
    "</ul>"
   ]
  },
  {
   "cell_type": "markdown",
   "metadata": {},
   "source": [
    "<div class=\"alert-success\">\n",
    "<ul>\n",
    "<li> **Expectation equation**: $V^\\pi$ is the only solution to $V\\left(s\\right) =  r\\left(s,\\pi\\left(s\\right)\\right) + \\gamma \\sum\\limits_{s'\\in S} p\\left(s'|s,\\pi\\left(s\\right)\\right) V\\left(s'\\right)$<br>\n",
    "Similarly, $Q^\\pi$ is the only solution to $Q\\left(s,a\\right) = r\\left(s,a\\right) + \\gamma \\sum\\limits_{s'\\in S} p\\left(s'|s,a\\right) Q\\left(s', \\pi\\left(s'\\right)\\right)$\n",
    "<li> **Optimality equation**: $V^*$ is the only solution to $V(s)  = \\max\\limits_{a\\in A} \\left\\{ r(s,a) + \\gamma \\sum\\limits_{s'\\in S} p(s'|s,a) V(s') \\right\\}$<br>\n",
    "Similarly, $Q^*$ is the only solution to $Q(s,a) = r(s,a) + \\gamma \\sum\\limits_{s'\\in S}p(s'|s,a) \\max\\limits_{a'\\in A} Q(s',a')$\n",
    "</ul>\n",
    "</div>"
   ]
  },
  {
   "cell_type": "markdown",
   "metadata": {},
   "source": [
    "<div class=\"alert-success\">\n",
    "<li> **Value Iteration**: finding $V^*$ (or $Q^*$) by repeatedly applying the Bellman Optimal Equation to any initial function\n",
    "<li> **Policy Iteration**: finding $\\pi^*$ from any initial policy by building the sequence $\\pi_{n+1}(s) = \\arg\\max_{a\\in A} Q^{\\pi_n}(s,a)$ that converges towards $\\pi^*$; $Q^{\\pi_n}(s,a)$ is computing using the Bellman Expectation Equation\n",
    "</div>"
   ]
  },
  {
   "cell_type": "markdown",
   "metadata": {},
   "source": [
    "## <a id=\"gym\"></a>Some Gym notions\n",
    "\n",
    "Gym environments all are encapsulated so that they have the same API. This can be described by calling `help(gym.Env)` Namely, they all have 5 methods and 3 attributes.\n",
    "\n",
    "**Methods**:\n",
    "- `step` --- Runs one timestep of the environment's dynamics. When end of episode is reached, you are responsible for calling `reset()`  to reset this environment's state. Accepts an action and returns a tuple (observation, reward, done, info).\n",
    "- `reset` --- Resets the state of the environment and returns an initial observation.\n",
    "- `render` --- Renders the environment. The set of supported modes varies per environment. See `help(gym.Env.render)` for details and arguments.\n",
    "- `close` --- Cleans everything up, shuts the light and closes the door.\n",
    "- `seed` --- Sets the seed for this env's random number generator(s).\n",
    "\n",
    "**Attributes**:\n",
    "- `action_space` --- The Space(*) object corresponding to valid actions.\n",
    "- `observation_space` --- The Space(*) object corresponding to valid observations.\n",
    "- `reward_range` --- A tuple corresponding to the min and max possible rewards.\n",
    "\n",
    "(*) `Space` is a class (`help(gym.Space)`) that defines a set, be it continuous or discrete, with some useful methods. It is used specifically as the type of the action and observation spaces.\n",
    "\n",
    "Beyond those common API methods, some class-specific methods or attributes can be accessed by using the `unwrapped` attribute of each environment (if present) as in the example above.\n",
    "\n",
    "**General references on OpenAI Gym:**\n",
    "- [The short description paper](https://arxiv.org/pdf/1606.01540.pdf)\n",
    "- [The github page](https://github.com/openai/gym/blob/master/gym/envs/toy_text/discrete.py) (the most useful resource!)\n",
    "- [The general introduction to Gym](https://gym.openai.com/docs/)\n",
    "- [The deprecated list of environments](https://gym.openai.com/envs/) (refer to the github page for the latest version)."
   ]
  },
  {
   "cell_type": "markdown",
   "metadata": {},
   "source": [
    "## Looking at the environment"
   ]
  },
  {
   "cell_type": "code",
   "execution_count": 6,
   "metadata": {},
   "outputs": [
    {
     "name": "stderr",
     "output_type": "stream",
     "text": [
      "[2019-08-30 16:15:17,774] Making new env: FrozenLake-v0\n"
     ]
    }
   ],
   "source": [
    "env=gym.make('FrozenLake-v0')"
   ]
  },
  {
   "cell_type": "code",
   "execution_count": 7,
   "metadata": {
    "scrolled": true
   },
   "outputs": [
    {
     "name": "stdout",
     "output_type": "stream",
     "text": [
      "\u001b[41mS\u001b[0mFFF\n",
      "FHFH\n",
      "FFFH\n",
      "HFFG\n",
      "\n"
     ]
    },
    {
     "data": {
      "text/plain": [
       "<ipykernel.iostream.OutStream at 0x7f8a80350c88>"
      ]
     },
     "execution_count": 7,
     "metadata": {},
     "output_type": "execute_result"
    }
   ],
   "source": [
    "env.render()"
   ]
  },
  {
   "cell_type": "markdown",
   "metadata": {},
   "source": [
    "|  S : starting point, safe  \n",
    "|  F : frozen surface, safe  \n",
    "|  H : hole, fall to your doom  \n",
    "|  G : goal, where your office is located  \n",
    "|  \n",
    "|  The episode ends when you reach the goal or fall in a hole.  \n",
    "|  You receive a reward of 1 if you reach the goal, and zero otherwise."
   ]
  },
  {
   "cell_type": "markdown",
   "metadata": {},
   "source": [
    "### State Space, Action Space, Model of the environment"
   ]
  },
  {
   "cell_type": "code",
   "execution_count": 8,
   "metadata": {},
   "outputs": [
    {
     "name": "stdout",
     "output_type": "stream",
     "text": [
      "16\n"
     ]
    }
   ],
   "source": [
    "print(env.observation_space.n)"
   ]
  },
  {
   "cell_type": "code",
   "execution_count": 9,
   "metadata": {},
   "outputs": [
    {
     "name": "stdout",
     "output_type": "stream",
     "text": [
      "4\n"
     ]
    }
   ],
   "source": [
    "print(env.action_space.n)"
   ]
  },
  {
   "cell_type": "markdown",
   "metadata": {},
   "source": [
    "**action space**:  \n",
    "left=0, down=1, right=2, up=3"
   ]
  },
  {
   "cell_type": "code",
   "execution_count": 10,
   "metadata": {},
   "outputs": [
    {
     "data": {
      "text/plain": [
       "{0: [(0.3333333333333333, 0, 0.0, False),\n",
       "  (0.3333333333333333, 0, 0.0, False),\n",
       "  (0.3333333333333333, 4, 0.0, False)],\n",
       " 1: [(0.3333333333333333, 0, 0.0, False),\n",
       "  (0.3333333333333333, 4, 0.0, False),\n",
       "  (0.3333333333333333, 1, 0.0, False)],\n",
       " 2: [(0.3333333333333333, 4, 0.0, False),\n",
       "  (0.3333333333333333, 1, 0.0, False),\n",
       "  (0.3333333333333333, 0, 0.0, False)],\n",
       " 3: [(0.3333333333333333, 1, 0.0, False),\n",
       "  (0.3333333333333333, 0, 0.0, False),\n",
       "  (0.3333333333333333, 0, 0.0, False)]}"
      ]
     },
     "execution_count": 10,
     "metadata": {},
     "output_type": "execute_result"
    }
   ],
   "source": [
    "#model of the environment - example for first state\n",
    "env.P[0]"
   ]
  },
  {
   "cell_type": "code",
   "execution_count": 11,
   "metadata": {},
   "outputs": [
    {
     "data": {
      "text/plain": [
       "[(0.3333333333333333, 0, 0.0, False),\n",
       " (0.3333333333333333, 0, 0.0, False),\n",
       " (0.3333333333333333, 4, 0.0, False)]"
      ]
     },
     "execution_count": 11,
     "metadata": {},
     "output_type": "execute_result"
    }
   ],
   "source": [
    "env.P[0][0] #first state, action moving left"
   ]
  },
  {
   "cell_type": "markdown",
   "metadata": {},
   "source": [
    "**env.P(s) gives you for each possible action a:**\n",
    "* all the possible next states s'\n",
    "* the probability model p(s'|s,a)\n",
    "* and the reward r(s'|s,a)\n",
    "* A boolean if s' is a terminal state or no"
   ]
  },
  {
   "cell_type": "markdown",
   "metadata": {},
   "source": [
    "### Parameters of the Value Iteration Algorithm\n",
    "* **The discount rate $\\gamma$**: you can start with a value $\\gamma=0.8$ and varying it to see its impact on the optimal policy \n",
    "* **The convergence threshold**: a threshold of $10^-5$ is a good target\n",
    "* **The number of iterations**: The maximum number of updates for the value function: should be large enough to allow convergence. You can start with 100,000 iterations."
   ]
  },
  {
   "cell_type": "code",
   "execution_count": 12,
   "metadata": {
    "collapsed": true
   },
   "outputs": [],
   "source": [
    "gamma=0.9\n",
    "num_iterations=100000\n",
    "thresold=10^-5"
   ]
  },
  {
   "attachments": {
    "Value-Iteration-algo-DP.png": {
     "image/png": "[encoded data removed]"
    }
   },
   "cell_type": "markdown",
   "metadata": {},
   "source": [
    "![Value-Iteration-algo-DP.png](attachment:Value-Iteration-algo-DP.png)"
   ]
  },
  {
   "cell_type": "markdown",
   "metadata": {
    "tags": [
     "hide_input"
    ]
   },
   "source": [
    "## Steps to implement the Value Iteration algorithm\n",
    "\n",
    "### 1. Computation of the optimal Value Function V*\n",
    "\n",
    "* Initialization of the Value Function for each state V(s) (numpy table with zero initial values)\n",
    "\n",
    "* First Loop over all the iterations \n",
    "\n",
    "* For each state of the state space (loop over states)\n",
    "* And for each action of the action space (loop over actions)\n",
    "* Store the transition (transition proba $p(s'|s,a)$, next state s', immediate reward $r(s'|s,a)$) for each possible next state\n",
    "* And compute the quantity: $Q(s,a)=\\sum\\limits_{s'\\in S} p(s'|s,a)*(r(s'|s,a)+\\gamma*V(s'))$\n",
    "* Update V(s): $V_{new}(s) \\leftarrow \\max\\limits_{a\\in A} Q(s,a)$\n",
    "* Check if V has reached convergence: ($ \\sum\\limits_{s \\in S} |V(s)-V_{new}(s)| < threshold$): \n",
    "    if so break the loop over the iterations\n",
    "* Return the latest value of the Value Function\n",
    "\n",
    "### 2. Derive $\\pi^*$ from $V^*$\n",
    "#### Create a function extract_policy taking as parameter $V^*$\n",
    "* For all the states in the state space\n",
    "* Loop over all the possible actions and store the transition (transition proba $p(s'|s,a)$, next state s', immediate reward $r(s'|s,a)$)\n",
    "* Compute $Q(s,a)=\\sum\\limits_{s'\\in S} p(s'|s,a)*(r(s'|s,a)+\\gamma*V^*(s'))$ for each action a\n",
    "* Compute $\\pi^*=\\arg\\max\\limits_{a \\in A} Q(s,a)$"
   ]
  },
  {
   "cell_type": "code",
   "execution_count": 13,
   "metadata": {
    "collapsed": true
   },
   "outputs": [],
   "source": [
    "def value_iteration(env, gamma=0.9, num_iterations=100000, thresold=1e-5):\n",
    "    # initialize value tables with zeros\n",
    "    value_table=np.zeros(env.observation_space.n)\n",
    "    \n",
    "    # setting number of iterations and thresold \n",
    "    #thresold=1e-20\n",
    "    for i in range(num_iterations):\n",
    "    \n",
    "        # copying the value table to the updated value_table\n",
    "        old_value_table=np.copy(value_table)\n",
    "    \n",
    "        for state in range(env.observation_space.n):\n",
    "            Q_value=[]\n",
    "            for action in range(env.action_space.n):\n",
    "                next_states_rewards=[] # next state rewards store the Q_Value for each action\n",
    "                for next_s in env.P[state][action]:\n",
    "                    # env.P gets the model of the env: (p(s'|s,a),s',r(s'|s,a))\n",
    "                    trans_prob, next_state, reward_prob, _=next_s\n",
    "                    next_states_rewards.append(trans_prob*(reward_prob+gamma*old_value_table[next_state]))\n",
    "                Q_value.append(np.sum(next_states_rewards))\n",
    "                # Q_value <-sum over s' (p(s'|s,a)*(r(s'|s,a)+gamma*V(s')))\n",
    "            \n",
    "            value_table[state]=max(Q_value)\n",
    "            # Q_value is a list of [q(state, a') for all a' in action space]\n",
    "            # V_updated (state) <- max over actions (Q(state, action))\n",
    "        \n",
    "        if(np.sum(np.fabs(old_value_table-value_table))<=thresold):\n",
    "            print('Value Iteration converging at iteration:{}'.format(i+1))\n",
    "            break\n",
    "    value_table=np.resize(value_table, (4,4))\n",
    "    \n",
    "    return value_table"
   ]
  },
  {
   "cell_type": "code",
   "execution_count": 14,
   "metadata": {},
   "outputs": [
    {
     "name": "stdout",
     "output_type": "stream",
     "text": [
      "Value Iteration converging at iteration:75\n"
     ]
    },
    {
     "data": {
      "text/plain": [
       "array([[0.06888152, 0.06140662, 0.07440396, 0.05580094],\n",
       "       [0.09184601, 0.        , 0.11220509, 0.        ],\n",
       "       [0.14542945, 0.2474923 , 0.29961431, 0.        ],\n",
       "       [0.        , 0.37993254, 0.63901839, 0.        ]])"
      ]
     },
     "execution_count": 14,
     "metadata": {},
     "output_type": "execute_result"
    }
   ],
   "source": [
    "value_iteration(env)"
   ]
  },
  {
   "cell_type": "markdown",
   "metadata": {},
   "source": [
    "### Plotting of the value table evolution"
   ]
  },
  {
   "cell_type": "code",
   "execution_count": 15,
   "metadata": {
    "collapsed": true
   },
   "outputs": [],
   "source": [
    "def plot(num_iterations):\n",
    "    return value_iteration(env, num_iterations=num_iterations)"
   ]
  },
  {
   "cell_type": "code",
   "execution_count": 16,
   "metadata": {
    "collapsed": true
   },
   "outputs": [],
   "source": [
    "from __future__ import print_function\n",
    "from ipywidgets import interact, interactive, fixed, interact_manual\n",
    "import ipywidgets as widgets"
   ]
  },
  {
   "cell_type": "code",
   "execution_count": 17,
   "metadata": {},
   "outputs": [
    {
     "data": {
      "application/vnd.jupyter.widget-view+json": {
       "model_id": "01e5dd0a1f79462f8fc58c54f38f0ed3"
      }
     },
     "metadata": {},
     "output_type": "display_data"
    },
    {
     "data": {
      "text/plain": [
       "<function __main__.plot>"
      ]
     },
     "execution_count": 17,
     "metadata": {},
     "output_type": "execute_result"
    }
   ],
   "source": [
    "interact(plot, num_iterations=160)"
   ]
  },
  {
   "cell_type": "markdown",
   "metadata": {},
   "source": [
    "### computing the optimal policy from the optimal value function "
   ]
  },
  {
   "cell_type": "code",
   "execution_count": 18,
   "metadata": {
    "collapsed": true
   },
   "outputs": [],
   "source": [
    "def extract_policy(env, value_table, gamma=0.9):\n",
    "    # initializing the policy table\n",
    "    policy=np.zeros(env.observation_space.n)\n",
    "    \n",
    "    for state in range(env.observation_space.n):\n",
    "        \n",
    "        # initializing the Q_table for each state\n",
    "        Q_table=np.zeros(env.action_space.n)\n",
    "        \n",
    "        # compute Q Value for each actions of the state\n",
    "        #Q_value(state,action) <-sum over s' (p(s'|s,a)*(r(s'|s,a)+gamma*V(s')))\n",
    "        for action in range(env.action_space.n):\n",
    "            for next_s in env.P[state][action]:\n",
    "                trans_prob, next_state, reward_prob, _=next_s\n",
    "                # adding the next_state_rewards for the succesor state next_state to the Q_value\n",
    "                Q_table[action]+=(trans_prob*(reward_prob+gamma*value_table[next_state]))\n",
    "             \n",
    "        #select the action that has the maximum Q-value for finding the optimal policy\n",
    "        policy[state]=np.argmax(Q_table)\n",
    "        #pi(state)<-argmax over actions (Q_table(state, action))\n",
    "            \n",
    "    return policy"
   ]
  },
  {
   "cell_type": "code",
   "execution_count": 19,
   "metadata": {},
   "outputs": [
    {
     "name": "stdout",
     "output_type": "stream",
     "text": [
      "Value Iteration converging at iteration:75\n",
      "[[0. 3. 0. 3.]\n",
      " [0. 0. 0. 0.]\n",
      " [3. 1. 0. 0.]\n",
      " [0. 2. 1. 0.]]\n"
     ]
    }
   ],
   "source": [
    "value_table=value_iteration(env)\n",
    "optimal_policy=extract_policy(env, value_table.reshape(-1))\n",
    "print(optimal_policy.reshape(4,4))"
   ]
  },
  {
   "cell_type": "code",
   "execution_count": 20,
   "metadata": {},
   "outputs": [
    {
     "name": "stdout",
     "output_type": "stream",
     "text": [
      "[['l' 'u' 'l' 'u']\n",
      " ['l' 'l' 'l' 'l']\n",
      " ['u' 'd' 'l' 'l']\n",
      " ['l' 'r' 'd' 'l']]\n"
     ]
    }
   ],
   "source": [
    "policy_string = optimal_policy.reshape(4,4).astype(str)\n",
    "action_map = {\n",
    "    0: \"l\",\n",
    "    1: \"d\",\n",
    "    2: \"r\",\n",
    "    3: \"u\"\n",
    "}\n",
    "\n",
    "for k, v in action_map.items():\n",
    "    policy_string[optimal_policy.reshape(4,4) == k] = v\n",
    "print(policy_string)"
   ]
  },
  {
   "cell_type": "code",
   "execution_count": null,
   "metadata": {
    "collapsed": true
   },
   "outputs": [],
   "source": []
  }
 ],
 "metadata": {
  "kernelspec": {
   "display_name": "Python 3",
   "language": "python",
   "name": "python3"
  },
  "language_info": {
   "codemirror_mode": {
    "name": "ipython",
    "version": 3
   },
   "file_extension": ".py",
   "mimetype": "text/x-python",
   "name": "python",
   "nbconvert_exporter": "python",
   "pygments_lexer": "ipython3",
   "version": "3.6.1"
  }
 },
 "nbformat": 4,
 "nbformat_minor": 2
}
